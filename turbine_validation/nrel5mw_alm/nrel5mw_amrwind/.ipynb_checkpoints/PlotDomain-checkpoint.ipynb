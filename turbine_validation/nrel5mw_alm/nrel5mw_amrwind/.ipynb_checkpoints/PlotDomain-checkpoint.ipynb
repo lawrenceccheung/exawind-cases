{
 "cells": [
  {
   "cell_type": "markdown",
   "id": "7f66d691-e997-476b-a041-f88111d17911",
   "metadata": {},
   "source": [
    "# AMR-Wind comparison case"
   ]
  },
  {
   "cell_type": "code",
   "execution_count": 1,
   "id": "0b24ec9e-95c8-453f-bf9c-eed413c934f6",
   "metadata": {},
   "outputs": [],
   "source": [
    "%%capture \n",
    "\n",
    "# Important header information\n",
    "amrwindfedir = '/projects/wind_uq/lcheung/amrwind-frontend'\n",
    "import sys, os\n",
    "sys.path.insert(1, amrwindfedir)\n",
    "\n",
    "# Load the libraries\n",
    "import matplotlib.pyplot    as plt\n",
    "import amrwind_frontend as amrwind\n",
    "import tempfile\n",
    "import shutil\n",
    "import yaml as yaml\n",
    "import numpy as np\n",
    "\n",
    "# Also ignore warnings\n",
    "import warnings\n",
    "warnings.filterwarnings('ignore')\n",
    "\n",
    "# Make all plots inline \n",
    "%matplotlib inline"
   ]
  },
  {
   "cell_type": "code",
   "execution_count": 2,
   "id": "fc6b97b1-9e37-4e5c-a329-2c2eea0b2379",
   "metadata": {},
   "outputs": [],
   "source": [
    "# Start the amrwind_frontend app \n",
    "case = amrwind.MyApp.init_nogui()"
   ]
  },
  {
   "cell_type": "code",
   "execution_count": 3,
   "id": "5766d3d1-77b4-4cc1-aa5f-c3cba2643fd8",
   "metadata": {},
   "outputs": [
    {
     "name": "stdout",
     "output_type": "stream",
     "text": [
      "CANNOT update: ABLMeanBoussinesq use forcechange=True in setval()\n"
     ]
    },
    {
     "data": {
      "text/plain": [
       "OrderedDict([('tagging.refine0.c0.type', 'cylinder'),\n",
       "             ('tagging.refine0.c0.start', '-192.0 0.0 0.0'),\n",
       "             ('tagging.refine0.c0.end', '1536.0 0.0 0.0'),\n",
       "             ('tagging.refine0.c0.outer_radius', '140.8'),\n",
       "             ('tagging.refine0.c1.type', 'cylinder'),\n",
       "             ('tagging.refine0.c1.start', '-128.0 0.0 0.0'),\n",
       "             ('tagging.refine0.c1.end', '1280.0 0.0 0.0'),\n",
       "             ('tagging.refine0.c1.outer_radius', '128.0'),\n",
       "             ('tagging.refine0.c2.type', 'cylinder'),\n",
       "             ('tagging.refine0.c2.start', '-96.0 0.0 0.0'),\n",
       "             ('tagging.refine0.c2.end', '1024 0.0 0.0'),\n",
       "             ('tagging.refine0.c2.outer_radius', '96.0'),\n",
       "             ('tagging.refine0.c3.type', 'cylinder'),\n",
       "             ('tagging.refine0.c3.start', '-64.0 0.0 0.0'),\n",
       "             ('tagging.refine0.c3.end', '64.0 0.0 0.0'),\n",
       "             ('tagging.refine0.c3.outer_radius', '83.2'),\n",
       "             ('tagging.refine0.c4.type', 'cylinder'),\n",
       "             ('tagging.refine0.c4.start', '-38.4 0.0 0.0'),\n",
       "             ('tagging.refine0.c4.end', '38.4 0.0 0.0'),\n",
       "             ('tagging.refine0.c4.outer_radius', '76.8'),\n",
       "             ('tagging.refine0.c5.type', 'cylinder'),\n",
       "             ('tagging.refine0.c5.start', '-12.8 0.0 0.0'),\n",
       "             ('tagging.refine0.c5.end', '12.8 0.0 0.0'),\n",
       "             ('tagging.refine0.c5.outer_radius', '71.68'),\n",
       "             ('tagging.refine0.c6.type', 'cylinder'),\n",
       "             ('tagging.refine0.c6.start', '-6.4 0.0 0.0'),\n",
       "             ('tagging.refine0.c6.end', '6.4 0.0 0.0'),\n",
       "             ('tagging.refine0.c6.outer_radius', '67.84'),\n",
       "             ('tagging.refine0.c7.type', 'cylinder'),\n",
       "             ('tagging.refine0.c7.start', '-3.84 0.0 0.0'),\n",
       "             ('tagging.refine0.c7.end', '3.84 0.0 0.0'),\n",
       "             ('tagging.refine0.c7.outer_radius', '65.28')])"
      ]
     },
     "execution_count": 3,
     "metadata": {},
     "output_type": "execute_result"
    }
   ],
   "source": [
    "case.loadAMRWindInput('alm.yaml')"
   ]
  },
  {
   "cell_type": "code",
   "execution_count": 13,
   "id": "9c7a420e-17a8-44de-ada4-78612515f499",
   "metadata": {},
   "outputs": [
    {
     "data": {
      "image/png": "[encoded data removed]",
      "text/plain": [
       "<Figure size 1080x576 with 2 Axes>"
      ]
     },
     "metadata": {},
     "output_type": "display_data"
    }
   ],
   "source": [
    "# Plot the domain\n",
    "plt.rc('font', size=14)\n",
    "fig, ax = plt.subplots(1, 2, figsize=(15,8), facecolor='w')\n",
    "case.popup_storteddata['plotdomain']['plot_windnortharrows'] = False\n",
    "# Set any additional items to plot\n",
    "case.popup_storteddata['plotdomain']['plot_refineboxes']     = case.listboxpopupwindict['listboxtagging'].getitemlist()\n",
    "case.popup_storteddata['plotdomain']['plot_chooseview']      = 'XY' #'XY' #'YZ'\n",
    "case.plotDomain(ax=ax[0])\n",
    "case.popup_storteddata['plotdomain']['plot_chooseview']      = 'XZ' #'XY' #'YZ'\n",
    "case.plotDomain(ax=ax[1])"
   ]
  },
  {
   "cell_type": "code",
   "execution_count": null,
   "id": "f9bbeb5e-158d-45b2-8439-8c1110e34332",
   "metadata": {},
   "outputs": [],
   "source": []
  }
 ],
 "metadata": {
  "kernelspec": {
   "display_name": "Python 3 (ipykernel)",
   "language": "python",
   "name": "python3"
  },
  "language_info": {
   "codemirror_mode": {
    "name": "ipython",
    "version": 3
   },
   "file_extension": ".py",
   "mimetype": "text/x-python",
   "name": "python",
   "nbconvert_exporter": "python",
   "pygments_lexer": "ipython3",
   "version": "3.9.12"
  }
 },
 "nbformat": 4,
 "nbformat_minor": 5
}
