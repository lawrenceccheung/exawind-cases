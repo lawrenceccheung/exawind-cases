{
 "cells": [
  {
   "cell_type": "markdown",
   "metadata": {
    "deletable": true,
    "editable": true
   },
   "source": [
    "# Make mesh for ALM test"
   ]
  },
  {
   "cell_type": "code",
   "execution_count": 1,
   "metadata": {
    "collapsed": true,
    "deletable": true,
    "editable": true
   },
   "outputs": [],
   "source": [
    "%%capture\n",
    "\n",
    "# Change some display properties\n",
    "from IPython.core.display import display, HTML\n",
    "display(HTML(\"<style>.container { width:75% !important; }</style>\"))\n",
    "\n",
    "# Important header information\n",
    "naluhelperdir = '/projects/wind_uq/lcheung/naluhelperscripts'\n",
    "# Import libraries\n",
    "import sys\n",
    "import numpy as np\n",
    "import matplotlib.pyplot as plt\n",
    "from matplotlib.lines import Line2D\n",
    "import matplotlib.font_manager\n",
    "sys.path.insert(1, naluhelperdir)\n",
    "import plotmesh\n",
    "\n",
    "# Colors for refinement levels\n",
    "colors=['b','c','y','g','r', 'lightblue', 'lightcyan', 'lightyellow', 'lightgreen', 'lightred']\n",
    "plotmesh.meshcolors=colors\n",
    "\n",
    "%matplotlib inline"
   ]
  },
  {
   "cell_type": "code",
   "execution_count": 2,
   "metadata": {
    "collapsed": false,
    "deletable": true,
    "editable": true
   },
   "outputs": [
    {
     "name": "stdout",
     "output_type": "stream",
     "text": [
      "32.000 ['-1.52', '-1.12', '-1.12', '12.19', '1.12', '1.12']\n",
      "16.000 ['-1.02', '-1.02', '-1.02', '10.16', '1.02', '1.02']\n",
      "8.000 ['-0.76', '-0.76', '-0.76', '8.13', '0.76', '0.76']\n",
      "4.000 ['-0.51', '-0.66', '-0.66', '3.17', '0.66', '0.66']\n",
      "2.000 ['-0.30', '-0.61', '-0.61', '1.59', '0.61', '0.61']\n",
      "1.000 ['-0.10', '-0.57', '-0.57', '0.96', '0.57', '0.57']\n",
      "0.500 ['-0.05', '-0.54', '-0.54', '0.48', '0.54', '0.54']\n",
      "0.250 ['-0.03', '-0.52', '-0.52', '0.03', '0.52', '0.52']\n"
     ]
    }
   ],
   "source": [
    "rotorD = 126\n",
    "\n",
    "# From static_box.txt\n",
    "boxestxt=\"\"\"\n",
    "8\n",
    "1\n",
    "-192.0 -140.8 -140.8 1536.0 140.8 140.8\n",
    "1\n",
    "-128.0 -128.0 -128.0 1280.0 128.0 128.0\n",
    "1\n",
    "-96.0 -96.0 -96.0 1024 96.0 96.0\n",
    "1\n",
    "-64.0 -83.2 -83.2 400.0 83.2 83.2\n",
    "1\n",
    "-38.4 -76.8 -76.8 200.4 76.8 76.8\n",
    "1\n",
    "-12.8 -71.68 -71.68 120.8 71.68 71.68\n",
    "1\n",
    "-6.4 -67.84 -67.84 60.4 67.84 67.84\n",
    "1\n",
    "-3.84 -65.28 -65.28 3.84 65.28 65.28\n",
    "\"\"\"\n",
    "boxes=boxestxt.split('\\n')\n",
    "boxes = []\n",
    "for x in boxestxt.split('\\n'):\n",
    "    if len(x.split())>1:\n",
    "        boxes.append([float(y)/rotorD for y in x.split()])\n",
    "for level, x in enumerate(boxes): \n",
    "    dx = 64.0/2**(level+1)\n",
    "    boxspec = ['{0:0.2f}'.format(i) for i in x]\n",
    "    print(\"%0.3f %s\"%(dx, repr(boxspec)))"
   ]
  },
  {
   "cell_type": "code",
   "execution_count": 3,
   "metadata": {
    "collapsed": true,
    "deletable": true,
    "editable": true
   },
   "outputs": [],
   "source": [
    "# Put the input yaml file here:\n",
    "nalusetup = \"\"\"\n",
    "nalu_abl_mesh:\n",
    "  output_db: mesh_abl.exo\n",
    "  spec_type: bounding_box\n",
    "  fluid_part_name: fluid_part\n",
    "  vertices:\n",
    "  - [-1024.0, -1024.0, -1024.0]\n",
    "  - [1024.0, 1024.0, 1024.0] \n",
    "\n",
    "  mesh_dimensions: [128, 128, 128] \n",
    "  xmin_boundary_name: west\n",
    "  xmax_boundary_name: east\n",
    "  ymin_boundary_name: south\n",
    "  ymax_boundary_name: north\n",
    "  zmin_boundary_name: lower\n",
    "  zmax_boundary_name: upper\n",
    "\n",
    "# Mandatory section for Nalu preprocessing\n",
    "nalu_preprocess:\n",
    "  # Name of the input exodus database\n",
    "  input_db: mesh_abl.exo\n",
    "  # Name of the output exodus database\n",
    "  output_db: refinedmesh.exo\n",
    "\n",
    "  # Nalu preprocessor expects a list of tasks to be performed on the mesh and\n",
    "  # field data structures\n",
    "  tasks:\n",
    "    - mesh_local_refinement\n",
    "\n",
    "  mesh_local_refinement:\n",
    "    fluid_parts: [fluid_part]\n",
    "    write_percept_files: true\n",
    "    percept_file_prefix: adapt\n",
    "    search_tolerance: 11.0\n",
    "\n",
    "    turbine_locations:\n",
    "      - [ 5.0191, 0.0, -90.0 ]\n",
    "\n",
    "    turbine_diameters: 126          # Provide a list for variable diameters\n",
    "    turbine_heights: 90             # Provide a list for variable tower heights\n",
    "    orientation:\n",
    "      type: wind_direction\n",
    "      wind_direction:  270.0 \n",
    "    refinement_levels:  \n",
    "    # Upstream, downstream, lateral, and vertical heights in turbine D\n",
    "#      - [1.50, 8.00, 1.30, 1.30 ]        # 32m\n",
    "#      - [1.00, 7.00, 1.10, 1.10 ]        # 16m\n",
    "      - [0.75, 6.00, 1.00, 1.00 ]        #  8m\n",
    "      - [0.50, 3.20, 0.90, 0.90 ]        #  4m\n",
    "      - [0.40, 1.60, 0.80, 0.80 ]        #  2m\n",
    "      - [0.30, 1.00, 0.70, 0.70 ]        #  1m\n",
    "      - [0.10, 0.50, 0.60, 0.60 ]        #  0.50m\n",
    "      - [0.03, 0.03, 0.52, 0.52 ]        #  0.25m\n",
    "\"\"\""
   ]
  },
  {
   "cell_type": "code",
   "execution_count": 4,
   "metadata": {
    "collapsed": false,
    "deletable": true,
    "editable": true
   },
   "outputs": [
    {
     "name": "stdout",
     "output_type": "stream",
     "text": [
      "level      Min est      Max est  cell size\n",
      "    0      2097152      2097152  [16.0, 16.0, 16.0]\n",
      "    1      2187093      2300884  [8.0, 8.0, 8.0]\n",
      "    2      2505397      3028436  [4.0, 4.0, 4.0]\n",
      "    3      3607897      5548436  [2.0, 2.0, 2.0]\n",
      "    4      8029721     15646612  [1.0, 1.0, 1.0]\n",
      "    5     20091450     43190220  [0.5, 0.5, 0.5]\n",
      "    6     27299070     59664780  [0.25, 0.25, 0.25]\n",
      "Estimated mesh size (min): 27,299,070\n",
      "Estimated mesh size (max): 59,664,780\n"
     ]
    },
    {
     "data": {
      "image/png": "[encoded data removed]",
      "text/plain": [
       "<matplotlib.figure.Figure at 0x7fffc340c790>"
      ]
     },
     "metadata": {},
     "output_type": "display_data"
    }
   ],
   "source": [
    "plt.figure(figsize=(7,7));\n",
    "#fig, axs = plt.subplots(1,2,figsize=(14,7),sharey=False);\n",
    "plt.rc('font', size=14)\n",
    "#plt.rcParams[\"font.family\"] = \"DejaVu Serif\" #\"Nimbus Roman\"\n",
    "\n",
    "norththeta = (295.8-270.0)*np.pi/180.0\n",
    "northvec   = [-np.sin(norththeta), np.cos(norththeta)]\n",
    "\n",
    "myraNorth  = [0, 1, 0]\n",
    "myraEast   = [1, 0, 0]\n",
    "\n",
    "yamldata = plotmesh.getyamlfromstring(nalusetup)\n",
    "turbineXY, turbineD, turbineHH, orienttype, winddir, refineboxes = plotmesh.getPreprocess(yamldata)\n",
    "plotmesh.plotmeshes(yamldata, turbineXY, turbineD, winddir, refineboxes, windarrowcenter=turbineXY[0])\n",
    "plt.axis('equal');\n",
    "plt.xlabel('x [m]')\n",
    "plt.ylabel('y [m]')\n",
    "plt.title('NREL 5MW ALM test')\n",
    "\n",
    "# Put north on here\n",
    "#plt.annotate(\"N\", xy=(100+200*northvec[0],100+200*northvec[1]), \n",
    "#             xytext=(150.0, 100.0), ha=\"center\",arrowprops=dict(arrowstyle=\"->\"))\n",
    "plt.arrow(150, 400, 150*myraNorth[0], 150*myraNorth[1], head_width=20, color='r')\n",
    "plt.arrow(150, 400, 150*myraEast[0], 150*myraEast[1], head_width=20)\n",
    "plt.text(100,350, \"N\")\n",
    "#plt.annotate(\"\", xy=(150+200*myraEast[0],400+200*myraEast[1]), \n",
    "#             xytext=(150.0, 400.0), ha=\"center\",arrowprops=dict(arrowstyle=\"->\"))\n",
    "\n",
    "# Get the mesh size\n",
    "sizelevelsmin = plotmesh.estimateMeshSize(yamldata, turbineXY, turbineD, winddir, refineboxes, weights=[1,1])\n",
    "sizelevelsmax = plotmesh.estimateMeshSize(yamldata, turbineXY, turbineD, winddir, refineboxes, weights=[0,2])\n",
    "\n",
    "print(\"%5s %12s %12s  cell size\"%(\"level\",\"Min est\",\"Max est\"))\n",
    "for i, level in enumerate(sizelevelsmin): \n",
    "    print(\"%5i %12i %12i  \"%(i, sizelevelsmin[i][0], sizelevelsmax[i][0])+repr(sizelevelsmin[i][1]))\n",
    "     \n",
    "print(\"Estimated mesh size (min): \"+'{:,}'.format(sizelevelsmin[-1][0]))\n",
    "print(\"Estimated mesh size (max): \"+'{:,}'.format(sizelevelsmax[-1][0]))\n",
    "\n",
    "# Make a legend\n",
    "# --- just make a legend ---\n",
    "legend_el = []\n",
    "for i, level in enumerate(sizelevelsmin):    \n",
    "    legend_el.append(Line2D([0],[0], linewidth=0, marker='s',color=colors[i], label=level[1][0]))\n",
    "plt.legend(handles=legend_el, fontsize=10, frameon=True)\n",
    "plt.tight_layout()"
   ]
  },
  {
   "cell_type": "code",
   "execution_count": 5,
   "metadata": {
    "collapsed": true,
    "deletable": true,
    "editable": true
   },
   "outputs": [],
   "source": [
    "# Write the yaml file to string\n",
    "text_file = open(\"createmesh.yaml\", \"w\")\n",
    "n = text_file.write(nalusetup)\n",
    "text_file.close()"
   ]
  },
  {
   "cell_type": "markdown",
   "metadata": {
    "deletable": true,
    "editable": true
   },
   "source": [
    "To create the mesh with percept and mesh-adapt, run\n",
    "```bash\n",
    "$ ./buildrefinemesh.sh -n 128 createmesh.yaml |tee createmesh.log\n",
    "```"
   ]
  },
  {
   "cell_type": "code",
   "execution_count": null,
   "metadata": {
    "collapsed": true,
    "deletable": true,
    "editable": true
   },
   "outputs": [],
   "source": []
  }
 ],
 "metadata": {
  "kernelspec": {
   "display_name": "Python 2",
   "language": "python",
   "name": "python2"
  },
  "language_info": {
   "codemirror_mode": {
    "name": "ipython",
    "version": 2
   },
   "file_extension": ".py",
   "mimetype": "text/x-python",
   "name": "python",
   "nbconvert_exporter": "python",
   "pygments_lexer": "ipython2",
   "version": "2.7.13"
  }
 },
 "nbformat": 4,
 "nbformat_minor": 2
}
